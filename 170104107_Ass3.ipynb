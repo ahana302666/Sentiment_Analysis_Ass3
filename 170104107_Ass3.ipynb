{
  "nbformat": 4,
  "nbformat_minor": 0,
  "metadata": {
    "colab": {
      "name": "170104107_Ass3.ipynb",
      "provenance": []
    },
    "kernelspec": {
      "name": "python3",
      "display_name": "Python 3"
    },
    "language_info": {
      "name": "python"
    },
    "accelerator": "GPU"
  },
  "cells": [
    {
      "cell_type": "code",
      "metadata": {
        "colab": {
          "base_uri": "https://localhost:8080/"
        },
        "id": "uGBNy7GNgjMl",
        "outputId": "5bdb0b51-1139-4388-d0c8-1515e7dab02b"
      },
      "source": [
        "from google.colab import drive;\n",
        "drive.mount(\"/content/drive\");"
      ],
      "execution_count": 109,
      "outputs": [
        {
          "output_type": "stream",
          "name": "stdout",
          "text": [
            "Drive already mounted at /content/drive; to attempt to forcibly remount, call drive.mount(\"/content/drive\", force_remount=True).\n"
          ]
        }
      ]
    },
    {
      "cell_type": "code",
      "metadata": {
        "id": "MQ3QA3gUg4W-"
      },
      "source": [
        "import pandas as pd;\n",
        "import numpy as np;\n",
        "import matplotlib.pyplot as plt;\n",
        "import seaborn as sns;"
      ],
      "execution_count": 110,
      "outputs": []
    },
    {
      "cell_type": "code",
      "metadata": {
        "colab": {
          "base_uri": "https://localhost:8080/"
        },
        "id": "lnsgS0hOg96m",
        "outputId": "5676e921-65f0-4207-fa83-6c725b942f23"
      },
      "source": [
        "df = pd.read_csv(\"/content/drive/MyDrive/SoftComputing_Assignments_Dataset/Dataset 3.csv\" , encoding = \"ISO-8859-1\");\n",
        "print(df.head(20));"
      ],
      "execution_count": 111,
      "outputs": [
        {
          "output_type": "stream",
          "name": "stdout",
          "text": [
            "                                               tweets  sentiment\n",
            "0   just had a real good moment. i missssssssss hi...          0\n",
            "1          is reading manga  http://plurk.com/p/mzp1e          0\n",
            "2   @comeagainjen http://twitpic.com/2y2lx - http:...          0\n",
            "3   @lapcat Need to send 'em to my accountant tomo...          0\n",
            "4       ADD ME ON MYSPACE!!!  myspace.com/LookThunder          0\n",
            "5               so sleepy. good times tonight though           0\n",
            "6   @SilkCharm re: #nbn as someone already said, d...          0\n",
            "7               23 or 24Ã¯Â¿Â½C possible today. Nice           0\n",
            "8         nite twitterville  workout in the am  -ciao          0\n",
            "9     @daNanner Night, darlin'!  Sweet dreams to you           0\n",
            "10                           Good morning everybody!           0\n",
            "11  Finally! I just created my WordPress Blog. The...          0\n",
            "12  kisha they cnt get over u til they get out frm...          0\n",
            "13  @nicolerichie Yes i remember that band, It was...          0\n",
            "14             I really love reflections and shadows           0\n",
            "15  @blueaero ooo it's fantasy?  i like fantasy no...          0\n",
            "16  @rokchic28 no probs, I sell nothing other than...          0\n",
            "17  @shipovalov &quot;NOKLA connecting people&quot...          0\n",
            "18  Once again stayed up to late and have to start...          0\n",
            "19  @Kal_Penn I just read about your new job, CONG...          0\n"
          ]
        }
      ]
    },
    {
      "cell_type": "code",
      "metadata": {
        "colab": {
          "base_uri": "https://localhost:8080/"
        },
        "id": "CXcnt_wKhPbM",
        "outputId": "51efeefe-b900-4d81-ec4b-d4a7642abf3f"
      },
      "source": [
        "print(len(df));"
      ],
      "execution_count": 112,
      "outputs": [
        {
          "output_type": "stream",
          "name": "stdout",
          "text": [
            "10314\n"
          ]
        }
      ]
    },
    {
      "cell_type": "code",
      "metadata": {
        "colab": {
          "base_uri": "https://localhost:8080/",
          "height": 682
        },
        "id": "bYb5TmMchYnQ",
        "outputId": "a7e66a02-1aaf-42c7-b7e2-ec921e6591f7"
      },
      "source": [
        "col = 'sentiment'\n",
        "\n",
        "fig, (ax1, ax2)  = plt.subplots(nrows=1, ncols=2, figsize=(12,8))\n",
        "print(df[col].dropna().value_counts());\n",
        "print((np.array(list(df[col].dropna().value_counts()))/sum(list(df[col].dropna().value_counts()))));\n",
        "explode = list((np.array(list(df[col].dropna().value_counts()))/sum(list(df[col].dropna().value_counts())))[::-1])\n",
        "print(explode);\n",
        "labels = ['0','1'];\n",
        "print(labels);\n",
        "sizes = df[col].value_counts()\n",
        "print(sizes)\n",
        "ax2.pie(sizes,  explode=explode, startangle=60, labels=labels,autopct='%.2f')\n",
        "ax2.add_artist(plt.Circle((5,5),0.7,fc='white'))\n",
        "sns.countplot(y =col, data = df, ax=ax1)\n",
        "ax1.set_title(\"Count of each emotion\")\n",
        "ax2.set_title(\"Percentage of each emotion\")\n",
        "plt.show()"
      ],
      "execution_count": 113,
      "outputs": [
        {
          "output_type": "stream",
          "name": "stdout",
          "text": [
            "0    8000\n",
            "1    2314\n",
            "Name: sentiment, dtype: int64\n",
            "[0.77564475 0.22435525]\n",
            "[0.2243552452976537, 0.7756447547023463]\n",
            "['0', '1']\n",
            "0    8000\n",
            "1    2314\n",
            "Name: sentiment, dtype: int64\n"
          ]
        },
        {
          "output_type": "display_data",
          "data": {
            "image/png": "[encoded data removed]",
            "text/plain": [
              "<Figure size 864x576 with 2 Axes>"
            ]
          },
          "metadata": {
            "needs_background": "light"
          }
        }
      ]
    },
    {
      "cell_type": "code",
      "metadata": {
        "colab": {
          "base_uri": "https://localhost:8080/"
        },
        "id": "_ci9OWCwi9lV",
        "outputId": "2d138b79-9f4d-45c6-827a-13ca87d61260"
      },
      "source": [
        "df['char_length'] = df['tweets'].apply(lambda x : len(x))\n",
        "df['token_length'] = df['tweets'].apply(lambda x : len(x.split(\" \")))\n",
        "print(df);"
      ],
      "execution_count": 114,
      "outputs": [
        {
          "output_type": "stream",
          "name": "stdout",
          "text": [
            "                                                  tweets  ...  token_length\n",
            "0      just had a real good moment. i missssssssss hi...  ...            12\n",
            "1             is reading manga  http://plurk.com/p/mzp1e  ...             5\n",
            "2      @comeagainjen http://twitpic.com/2y2lx - http:...  ...             5\n",
            "3      @lapcat Need to send 'em to my accountant tomo...  ...            23\n",
            "4          ADD ME ON MYSPACE!!!  myspace.com/LookThunder  ...             6\n",
            "...                                                  ...  ...           ...\n",
            "10309  No Depression by G Herbo is my mood from now o...  ...            20\n",
            "10310  What do you do when depression succumbs the br...  ...            18\n",
            "10311  Ketamine Nasal Spray Shows Promise Against Dep...  ...            10\n",
            "10312  dont mistake a bad day with depression! everyo...  ...            10\n",
            "10313                                                  0  ...             1\n",
            "\n",
            "[10314 rows x 4 columns]\n"
          ]
        }
      ]
    },
    {
      "cell_type": "code",
      "metadata": {
        "colab": {
          "base_uri": "https://localhost:8080/",
          "height": 405
        },
        "id": "gLgQQTINkX2h",
        "outputId": "2efe5ce1-f03f-4614-f6cb-c9db95ef3de4"
      },
      "source": [
        "fig, (ax1, ax2)  = plt.subplots(nrows=1, ncols=2, figsize=(12,6))\n",
        "sns.histplot(df['char_length'], ax=ax1)\n",
        "sns.histplot(df['token_length'], ax=ax2)\n",
        "ax1.set_title('Number of characters in the tweet')\n",
        "ax2.set_title('Number of token(words) in the tweet')\n",
        "plt.show()"
      ],
      "execution_count": 115,
      "outputs": [
        {
          "output_type": "display_data",
          "data": {
            "image/png": "[encoded data removed]",
            "text/plain": [
              "<Figure size 864x432 with 2 Axes>"
            ]
          },
          "metadata": {
            "needs_background": "light"
          }
        }
      ]
    },
    {
      "cell_type": "markdown",
      "metadata": {
        "id": "fnl8kzaDkzmi"
      },
      "source": [
        "**Data** **Preprocessing**"
      ]
    },
    {
      "cell_type": "code",
      "metadata": {
        "colab": {
          "base_uri": "https://localhost:8080/"
        },
        "id": "PwXfkqNeknO9",
        "outputId": "e83345ae-ab13-4d0d-b29b-d30de0b027da"
      },
      "source": [
        "!pip install inflect"
      ],
      "execution_count": 116,
      "outputs": [
        {
          "output_type": "stream",
          "name": "stdout",
          "text": [
            "Requirement already satisfied: inflect in /usr/local/lib/python3.7/dist-packages (2.1.0)\n"
          ]
        }
      ]
    },
    {
      "cell_type": "code",
      "metadata": {
        "colab": {
          "base_uri": "https://localhost:8080/"
        },
        "id": "khliVyFZks5B",
        "outputId": "c1e50323-f75c-4ae1-df98-ca1576cddd60"
      },
      "source": [
        "!pip install contractions"
      ],
      "execution_count": 117,
      "outputs": [
        {
          "output_type": "stream",
          "name": "stdout",
          "text": [
            "Requirement already satisfied: contractions in /usr/local/lib/python3.7/dist-packages (0.0.52)\n",
            "Requirement already satisfied: textsearch>=0.0.21 in /usr/local/lib/python3.7/dist-packages (from contractions) (0.0.21)\n",
            "Requirement already satisfied: anyascii in /usr/local/lib/python3.7/dist-packages (from textsearch>=0.0.21->contractions) (0.3.0)\n",
            "Requirement already satisfied: pyahocorasick in /usr/local/lib/python3.7/dist-packages (from textsearch>=0.0.21->contractions) (1.4.2)\n"
          ]
        }
      ]
    },
    {
      "cell_type": "code",
      "metadata": {
        "colab": {
          "base_uri": "https://localhost:8080/"
        },
        "id": "qrIhRBvKk8E0",
        "outputId": "f793182a-1885-4014-ed86-6a02f9e4dc5a"
      },
      "source": [
        "!pip install bs4"
      ],
      "execution_count": 118,
      "outputs": [
        {
          "output_type": "stream",
          "name": "stdout",
          "text": [
            "Requirement already satisfied: bs4 in /usr/local/lib/python3.7/dist-packages (0.0.1)\n",
            "Requirement already satisfied: beautifulsoup4 in /usr/local/lib/python3.7/dist-packages (from bs4) (4.6.3)\n"
          ]
        }
      ]
    },
    {
      "cell_type": "code",
      "metadata": {
        "colab": {
          "base_uri": "https://localhost:8080/"
        },
        "id": "O9L51Ec6ltLG",
        "outputId": "7b9e52f8-2bfd-4b15-8820-4a614f9b4466"
      },
      "source": [
        "from sklearn.preprocessing import LabelEncoder;\n",
        "from sklearn.model_selection import train_test_split;\n",
        "import nltk;\n",
        "import inflect;\n",
        "import contractions;\n",
        "from bs4 import BeautifulSoup;\n",
        "import re, string, unicodedata;\n",
        "from nltk import word_tokenize, sent_tokenize;\n",
        "from nltk.corpus import stopwords;\n",
        "from nltk.stem import LancasterStemmer, WordNetLemmatizer;\n",
        "nltk.download('punkt');\n",
        "nltk.download('stopwords');\n",
        "nltk.download('wordnet');"
      ],
      "execution_count": 119,
      "outputs": [
        {
          "output_type": "stream",
          "name": "stdout",
          "text": [
            "[nltk_data] Downloading package punkt to /root/nltk_data...\n",
            "[nltk_data]   Package punkt is already up-to-date!\n",
            "[nltk_data] Downloading package stopwords to /root/nltk_data...\n",
            "[nltk_data]   Package stopwords is already up-to-date!\n",
            "[nltk_data] Downloading package wordnet to /root/nltk_data...\n",
            "[nltk_data]   Package wordnet is already up-to-date!\n"
          ]
        }
      ]
    },
    {
      "cell_type": "code",
      "metadata": {
        "id": "vvVdta8-mAQT"
      },
      "source": [
        "\n",
        "def text_preprocessing_platform(df, text_col, remove_stopwords=False):\n",
        "    \n",
        "    ## Define functions for individual steps\n",
        "    # First function is used to denoise text\n",
        "    def denoise_text(text):\n",
        "\n",
        "        # Strip html if any. For ex. removing <html>, <p> tags\n",
        "        soup = BeautifulSoup(text, \"html.parser\");\n",
        "        text = soup.get_text();\n",
        "        # Replace contractions in the text. For ex. didn't -> did not\n",
        "        text = contractions.fix(text);\n",
        "        return text;\n",
        "    \n",
        "    ## Next step is text-normalization\n",
        "    \n",
        "    # Text normalization includes many steps.\n",
        "    \n",
        "    # Each function below serves a step.\n",
        "    \n",
        "    \n",
        "    def remove_non_ascii(words):\n",
        "        \"\"\"Remove non-ASCII characters from list of tokenized words\"\"\"\n",
        "        new_words = [];\n",
        "        for word in words:\n",
        "            new_word = unicodedata.normalize('NFKD', word).encode('ascii', 'ignore').decode('utf-8', 'ignore');\n",
        "            new_words.append(new_word);\n",
        "        return new_words;\n",
        "    \n",
        "    \n",
        "    def to_lowercase(words):\n",
        "        \"\"\"Convert all characters to lowercase from list of tokenized words\"\"\"\n",
        "        new_words = [];\n",
        "        for word in words:\n",
        "            new_word = word.lower();\n",
        "            new_words.append(new_word);\n",
        "        return new_words;\n",
        "    \n",
        "    \n",
        "    def remove_punctuation(words):\n",
        "        \"\"\"Remove punctuation from list of tokenized words\"\"\"\n",
        "        new_words = [];\n",
        "        for word in words:\n",
        "            new_word = re.sub(r'[^\\w\\s]', '', word);\n",
        "            if new_word != '':\n",
        "                new_words.append(new_word);\n",
        "        return new_words;\n",
        "    \n",
        "    \n",
        "    def replace_numbers(words):\n",
        "        \"\"\"Replace all interger occurrences in list of tokenized words with textual representation\"\"\"\n",
        "        p = inflect.engine();\n",
        "        new_words = [];\n",
        "        for word in words:\n",
        "            if word.isdigit():\n",
        "                new_word = p.number_to_words(word);\n",
        "                new_words.append(new_word);\n",
        "            else:\n",
        "                new_words.append(word);\n",
        "        return new_words;\n",
        "    \n",
        "    \n",
        "    def remove_stopwords(words):\n",
        "        \"\"\"Remove stop words from list of tokenized words\"\"\"\n",
        "        new_words = [];\n",
        "        for word in words:\n",
        "            if word not in stopwords.words('english'):\n",
        "                new_words.append(word);\n",
        "        return new_words;\n",
        "    \n",
        "    \n",
        "    def stem_words(words):\n",
        "        \"\"\"Stem words in list of tokenized words\"\"\"\n",
        "        stemmer = LancasterStemmer();\n",
        "        stems = [];\n",
        "        for word in words:\n",
        "            stem = stemmer.stem(word);\n",
        "            stems.append(stem);\n",
        "        return stems;\n",
        "    \n",
        "    \n",
        "    def lemmatize_verbs(words):\n",
        "        \"\"\"Lemmatize verbs in list of tokenized words\"\"\"\n",
        "        lemmatizer = WordNetLemmatizer();\n",
        "        lemmas = [];\n",
        "        for word in words:\n",
        "            lemma = lemmatizer.lemmatize(word, pos='v');\n",
        "            lemmas.append(lemma);\n",
        "        return lemmas;\n",
        "    \n",
        "    \n",
        "    ### A wrap-up function for normalization\n",
        "    def normalize_text(words, remove_stopwords):\n",
        "        words = remove_non_ascii(words);\n",
        "        words = to_lowercase(words);\n",
        "        words = remove_punctuation(words);\n",
        "        words = replace_numbers(words);\n",
        "        if remove_stopwords:\n",
        "            words = remove_stopwords(words);\n",
        "        words = stem_words(words)\n",
        "        # words = lemmatize_verbs(words);\n",
        "        return words;\n",
        "    \n",
        "    # All above functions work on word tokens we need a tokenizer\n",
        "    \n",
        "    # Tokenize tweet into words\n",
        "    def tokenize(text):\n",
        "        return nltk.word_tokenize(text);\n",
        "    \n",
        "    \n",
        "    # A overall wrap-up function\n",
        "    def text_prepare(text):\n",
        "        text = denoise_text(text);\n",
        "        text = ' '.join([x for x in normalize_text(tokenize(text), remove_stopwords)]);\n",
        "        return text;\n",
        "    \n",
        "    # run every-step\n",
        "    df[text_col] = [text_prepare(x) for x in df[text_col]];\n",
        "    print(text_col)\n",
        "    \n",
        "    # return processed df\n",
        "    return df;"
      ],
      "execution_count": 120,
      "outputs": []
    },
    {
      "cell_type": "code",
      "metadata": {
        "colab": {
          "base_uri": "https://localhost:8080/",
          "height": 893
        },
        "id": "muO87hE89RRQ",
        "outputId": "3c31e21a-fcea-4b23-8d84-a2b6063b0f7a"
      },
      "source": [
        "print(\"Before Text Preprocessing\")\n",
        "display(df.head()[['tweets']])\n",
        "print(df.shape);\n",
        "print(df.loc[[340]])\n",
        "sns.heatmap(df.isnull(), cmap='viridis')\n",
        "plt.show()\n",
        "processed_df = text_preprocessing_platform(df, 'tweets', remove_stopwords=False)\n",
        "print(\"After Text Preprocessing\")\n",
        "display(processed_df.head()[['tweets']])\n",
        "print(processed_df.shape);\n",
        "print(processed_df.loc[[340]]);\n",
        "\n",
        "processed_df.to_csv('After_cleaning.csv');"
      ],
      "execution_count": 121,
      "outputs": [
        {
          "output_type": "stream",
          "name": "stdout",
          "text": [
            "Before Text Preprocessing\n"
          ]
        },
        {
          "output_type": "display_data",
          "data": {
            "text/html": [
              "<div>\n",
              "<style scoped>\n",
              "    .dataframe tbody tr th:only-of-type {\n",
              "        vertical-align: middle;\n",
              "    }\n",
              "\n",
              "    .dataframe tbody tr th {\n",
              "        vertical-align: top;\n",
              "    }\n",
              "\n",
              "    .dataframe thead th {\n",
              "        text-align: right;\n",
              "    }\n",
              "</style>\n",
              "<table border=\"1\" class=\"dataframe\">\n",
              "  <thead>\n",
              "    <tr style=\"text-align: right;\">\n",
              "      <th></th>\n",
              "      <th>tweets</th>\n",
              "    </tr>\n",
              "  </thead>\n",
              "  <tbody>\n",
              "    <tr>\n",
              "      <th>0</th>\n",
              "      <td>just had a real good moment. i missssssssss hi...</td>\n",
              "    </tr>\n",
              "    <tr>\n",
              "      <th>1</th>\n",
              "      <td>is reading manga  http://plurk.com/p/mzp1e</td>\n",
              "    </tr>\n",
              "    <tr>\n",
              "      <th>2</th>\n",
              "      <td>@comeagainjen http://twitpic.com/2y2lx - http:...</td>\n",
              "    </tr>\n",
              "    <tr>\n",
              "      <th>3</th>\n",
              "      <td>@lapcat Need to send 'em to my accountant tomo...</td>\n",
              "    </tr>\n",
              "    <tr>\n",
              "      <th>4</th>\n",
              "      <td>ADD ME ON MYSPACE!!!  myspace.com/LookThunder</td>\n",
              "    </tr>\n",
              "  </tbody>\n",
              "</table>\n",
              "</div>"
            ],
            "text/plain": [
              "                                              tweets\n",
              "0  just had a real good moment. i missssssssss hi...\n",
              "1         is reading manga  http://plurk.com/p/mzp1e\n",
              "2  @comeagainjen http://twitpic.com/2y2lx - http:...\n",
              "3  @lapcat Need to send 'em to my accountant tomo...\n",
              "4      ADD ME ON MYSPACE!!!  myspace.com/LookThunder"
            ]
          },
          "metadata": {}
        },
        {
          "output_type": "stream",
          "name": "stdout",
          "text": [
            "(10314, 4)\n",
            "                                                tweets  ...  token_length\n",
            "340  Ever since I bought my Macbook, I send much mo...  ...            21\n",
            "\n",
            "[1 rows x 4 columns]\n"
          ]
        },
        {
          "output_type": "display_data",
          "data": {
            "image/png": "[encoded data removed]",
            "text/plain": [
              "<Figure size 432x288 with 2 Axes>"
            ]
          },
          "metadata": {
            "needs_background": "light"
          }
        },
        {
          "output_type": "stream",
          "name": "stdout",
          "text": [
            "tweets\n",
            "After Text Preprocessing\n"
          ]
        },
        {
          "output_type": "display_data",
          "data": {
            "text/html": [
              "<div>\n",
              "<style scoped>\n",
              "    .dataframe tbody tr th:only-of-type {\n",
              "        vertical-align: middle;\n",
              "    }\n",
              "\n",
              "    .dataframe tbody tr th {\n",
              "        vertical-align: top;\n",
              "    }\n",
              "\n",
              "    .dataframe thead th {\n",
              "        text-align: right;\n",
              "    }\n",
              "</style>\n",
              "<table border=\"1\" class=\"dataframe\">\n",
              "  <thead>\n",
              "    <tr style=\"text-align: right;\">\n",
              "      <th></th>\n",
              "      <th>tweets</th>\n",
              "    </tr>\n",
              "  </thead>\n",
              "  <tbody>\n",
              "    <tr>\n",
              "      <th>0</th>\n",
              "      <td>real good mom missssssssss much</td>\n",
              "    </tr>\n",
              "    <tr>\n",
              "      <th>1</th>\n",
              "      <td>read mang http plurkcompmzp1e</td>\n",
              "    </tr>\n",
              "    <tr>\n",
              "      <th>2</th>\n",
              "      <td>comeagaind http twitpiccom2y2lx http wwwyoutub...</td>\n",
              "    </tr>\n",
              "    <tr>\n",
              "      <th>3</th>\n",
              "      <td>lapc nee send account tomorrow od ev refer tax...</td>\n",
              "    </tr>\n",
              "    <tr>\n",
              "      <th>4</th>\n",
              "      <td>ad myspac myspacecomlookthund</td>\n",
              "    </tr>\n",
              "  </tbody>\n",
              "</table>\n",
              "</div>"
            ],
            "text/plain": [
              "                                              tweets\n",
              "0                    real good mom missssssssss much\n",
              "1                      read mang http plurkcompmzp1e\n",
              "2  comeagaind http twitpiccom2y2lx http wwwyoutub...\n",
              "3  lapc nee send account tomorrow od ev refer tax...\n",
              "4                      ad myspac myspacecomlookthund"
            ]
          },
          "metadata": {}
        },
        {
          "output_type": "stream",
          "name": "stdout",
          "text": [
            "(10314, 4)\n",
            "                                                tweets  ...  token_length\n",
            "340  ev sint bought macbook send much email fuck ea...  ...            21\n",
            "\n",
            "[1 rows x 4 columns]\n"
          ]
        }
      ]
    },
    {
      "cell_type": "code",
      "metadata": {
        "colab": {
          "base_uri": "https://localhost:8080/",
          "height": 206
        },
        "id": "VDsC1z-i8yTL",
        "outputId": "1388109f-b938-4c71-9561-eba048615dac"
      },
      "source": [
        " processed_df.head()"
      ],
      "execution_count": 122,
      "outputs": [
        {
          "output_type": "execute_result",
          "data": {
            "text/html": [
              "<div>\n",
              "<style scoped>\n",
              "    .dataframe tbody tr th:only-of-type {\n",
              "        vertical-align: middle;\n",
              "    }\n",
              "\n",
              "    .dataframe tbody tr th {\n",
              "        vertical-align: top;\n",
              "    }\n",
              "\n",
              "    .dataframe thead th {\n",
              "        text-align: right;\n",
              "    }\n",
              "</style>\n",
              "<table border=\"1\" class=\"dataframe\">\n",
              "  <thead>\n",
              "    <tr style=\"text-align: right;\">\n",
              "      <th></th>\n",
              "      <th>tweets</th>\n",
              "      <th>sentiment</th>\n",
              "      <th>char_length</th>\n",
              "      <th>token_length</th>\n",
              "    </tr>\n",
              "  </thead>\n",
              "  <tbody>\n",
              "    <tr>\n",
              "      <th>0</th>\n",
              "      <td>real good mom missssssssss much</td>\n",
              "      <td>0</td>\n",
              "      <td>57</td>\n",
              "      <td>12</td>\n",
              "    </tr>\n",
              "    <tr>\n",
              "      <th>1</th>\n",
              "      <td>read mang http plurkcompmzp1e</td>\n",
              "      <td>0</td>\n",
              "      <td>42</td>\n",
              "      <td>5</td>\n",
              "    </tr>\n",
              "    <tr>\n",
              "      <th>2</th>\n",
              "      <td>comeagaind http twitpiccom2y2lx http wwwyoutub...</td>\n",
              "      <td>0</td>\n",
              "      <td>84</td>\n",
              "      <td>5</td>\n",
              "    </tr>\n",
              "    <tr>\n",
              "      <th>3</th>\n",
              "      <td>lapc nee send account tomorrow od ev refer tax...</td>\n",
              "      <td>0</td>\n",
              "      <td>135</td>\n",
              "      <td>23</td>\n",
              "    </tr>\n",
              "    <tr>\n",
              "      <th>4</th>\n",
              "      <td>ad myspac myspacecomlookthund</td>\n",
              "      <td>0</td>\n",
              "      <td>45</td>\n",
              "      <td>6</td>\n",
              "    </tr>\n",
              "  </tbody>\n",
              "</table>\n",
              "</div>"
            ],
            "text/plain": [
              "                                              tweets  ...  token_length\n",
              "0                    real good mom missssssssss much  ...            12\n",
              "1                      read mang http plurkcompmzp1e  ...             5\n",
              "2  comeagaind http twitpiccom2y2lx http wwwyoutub...  ...             5\n",
              "3  lapc nee send account tomorrow od ev refer tax...  ...            23\n",
              "4                      ad myspac myspacecomlookthund  ...             6\n",
              "\n",
              "[5 rows x 4 columns]"
            ]
          },
          "metadata": {},
          "execution_count": 122
        }
      ]
    },
    {
      "cell_type": "code",
      "metadata": {
        "id": "z6k1LI9_VbfS",
        "colab": {
          "base_uri": "https://localhost:8080/"
        },
        "outputId": "48d59f2b-9009-48e7-a59c-cb6412389841"
      },
      "source": [
        "!wget http://nlp.stanford.edu/data/glove.6B.zip\n",
        "!unzip glove*.zip"
      ],
      "execution_count": 16,
      "outputs": [
        {
          "output_type": "stream",
          "name": "stdout",
          "text": [
            "--2021-09-27 08:26:23--  http://nlp.stanford.edu/data/glove.6B.zip\n",
            "Resolving nlp.stanford.edu (nlp.stanford.edu)... 171.64.67.140\n",
            "Connecting to nlp.stanford.edu (nlp.stanford.edu)|171.64.67.140|:80... connected.\n",
            "HTTP request sent, awaiting response... 302 Found\n",
            "Location: https://nlp.stanford.edu/data/glove.6B.zip [following]\n",
            "--2021-09-27 08:26:23--  https://nlp.stanford.edu/data/glove.6B.zip\n",
            "Connecting to nlp.stanford.edu (nlp.stanford.edu)|171.64.67.140|:443... connected.\n",
            "HTTP request sent, awaiting response... 301 Moved Permanently\n",
            "Location: http://downloads.cs.stanford.edu/nlp/data/glove.6B.zip [following]\n",
            "--2021-09-27 08:26:24--  http://downloads.cs.stanford.edu/nlp/data/glove.6B.zip\n",
            "Resolving downloads.cs.stanford.edu (downloads.cs.stanford.edu)... 171.64.64.22\n",
            "Connecting to downloads.cs.stanford.edu (downloads.cs.stanford.edu)|171.64.64.22|:80... connected.\n",
            "HTTP request sent, awaiting response... 200 OK\n",
            "Length: 862182613 (822M) [application/zip]\n",
            "Saving to: ‘glove.6B.zip’\n",
            "\n",
            "glove.6B.zip        100%[===================>] 822.24M  5.14MB/s    in 2m 42s  \n",
            "\n",
            "2021-09-27 08:29:07 (5.07 MB/s) - ‘glove.6B.zip’ saved [862182613/862182613]\n",
            "\n",
            "Archive:  glove.6B.zip\n",
            "  inflating: glove.6B.50d.txt        \n",
            "  inflating: glove.6B.100d.txt       \n",
            "  inflating: glove.6B.200d.txt       \n",
            "  inflating: glove.6B.300d.txt       \n"
          ]
        }
      ]
    },
    {
      "cell_type": "code",
      "metadata": {
        "id": "2cMBVNaf_jOO"
      },
      "source": [
        "f = open(\"glove.6B.50d.txt\");"
      ],
      "execution_count": 123,
      "outputs": []
    },
    {
      "cell_type": "code",
      "metadata": {
        "id": "UWSGqbC1_6nR"
      },
      "source": [
        "import tensorflow as tf\n",
        "from keras.layers import Dropout, Dense, GRU, Embedding, LSTM, Bidirectional, TimeDistributed, Flatten;\n",
        "from keras.models import Sequential;\n",
        "from sklearn.feature_extraction.text import TfidfVectorizer;\n",
        "from sklearn.metrics import matthews_corrcoef, confusion_matrix;\n",
        "from sklearn import metrics;\n",
        "from sklearn.utils import shuffle;\n",
        "from keras.preprocessing.text import Tokenizer;\n",
        "from keras.preprocessing.sequence import pad_sequences;\n",
        "from sklearn.preprocessing import LabelEncoder;\n",
        "\n",
        "# Logging\n",
        "import logging;\n",
        "logging.basicConfig(level=logging.INFO);\n",
        "\n",
        "import warnings\n"
      ],
      "execution_count": 124,
      "outputs": []
    },
    {
      "cell_type": "code",
      "metadata": {
        "id": "YvJUiKvp_w60"
      },
      "source": [
        "from tensorflow.keras.layers import Embedding\n",
        "from tensorflow.keras.layers import Conv1D\n",
        "from tensorflow.keras.layers import MaxPool1D\n",
        "from tensorflow.keras.layers import Dense\n",
        "from keras.layers import Dropout, Dense, Embedding, Conv1D,MaxPool1D,Flatten;\n",
        "from keras.models import Sequential;\n",
        "from sklearn.feature_extraction.text import TfidfVectorizer;\n",
        "from sklearn.metrics import matthews_corrcoef,confusion_matrix;\n",
        "from sklearn import metrics;\n",
        "from sklearn.utils import shuffle;\n",
        "from keras.preprocessing.text import Tokenizer;\n",
        "from keras.preprocessing.sequence import pad_sequences;\n",
        "from sklearn.preprocessing import LabelEncoder;\n",
        "\n",
        "# Logging\n",
        "import logging;\n",
        "logging.basicConfig(level=logging.INFO);\n",
        "\n",
        "import warnings\n"
      ],
      "execution_count": 125,
      "outputs": []
    },
    {
      "cell_type": "code",
      "metadata": {
        "id": "oyUFUga9AiEw"
      },
      "source": [
        "def loadData_Tokenizer(X_train, X_test,MAX_NB_WORDS=75000,MAX_SEQUENCE_LENGTH=500):\n",
        "    text = np.concatenate((X_train, X_test),axis = 0)\n",
        "    text = np.array(text)\n",
        "    tokenizer = Tokenizer(num_words=MAX_NB_WORDS)\n",
        "    tokenizer.fit_on_texts(text)\n",
        "    sequences = tokenizer.texts_to_sequences(text)\n",
        "    word_index = tokenizer.word_index\n",
        "    text = pad_sequences(sequences, maxlen=MAX_SEQUENCE_LENGTH)\n",
        "    print('Found %s unique tokens.' % len(word_index))\n",
        "    indices = np.arange(text.shape[0])\n",
        "    text = text[indices]\n",
        "    print(text.shape)\n",
        "    X_train = text[0:len(X_train), ]\n",
        "    X_test = text[len(X_train):, ]\n",
        "    embeddings_index = {}\n",
        "    f = open(\"glove.6B.50d.txt\", encoding='ISO-8859-1')\n",
        "    for line in f:\n",
        "        try:\n",
        "            values = line.split()\n",
        "            word = values[0]\n",
        "            try:\n",
        "                coefs = np.asarray(values[1:], dtype='float32')\n",
        "            except:\n",
        "                pass\n",
        "            embeddings_index[word] = coefs\n",
        "        except UnicodeDecodeError:\n",
        "            pass\n",
        "    f.close()\n",
        "    print('Total %s word vectors.' % len(embeddings_index))\n",
        "    return (X_train, X_test, word_index,embeddings_index, tokenizer)"
      ],
      "execution_count": 158,
      "outputs": []
    },
    {
      "cell_type": "code",
      "metadata": {
        "id": "Unb8fGUyCB6G"
      },
      "source": [
        "def Build_Model_CNN_Text(word_index, embeddings_index,MAX_SEQUENCE_LENGTH=500, EMBEDDING_DIM=50, dropout=0.5):\n",
        "     \n",
        "      embedding_matrix = np.random.random((len(word_index) + 1, EMBEDDING_DIM))\n",
        "      for word, i in word_index.items():\n",
        "          embedding_vector = embeddings_index.get(word)\n",
        "          if embedding_vector is not None:\n",
        "              # words not found in embedding index will be all-zeros.\n",
        "              if len(embedding_matrix[i]) != len(embedding_vector):\n",
        "                  print(\"could not broadcast input array from shape\", str(len(embedding_matrix[i])),\n",
        "                        \"into shape\", str(len(embedding_vector)), \" Please make sure your\"\n",
        "                                                                  \" EMBEDDING_DIM is equal to embedding_vector file ,GloVe,\")\n",
        "                  exit(1)\n",
        "              embedding_matrix[i] = embedding_vector\n",
        "      model=Sequential()\n",
        "      model.add(Embedding(len(word_index) + 1,\n",
        "                                  EMBEDDING_DIM,\n",
        "                                  weights=[embedding_matrix],\n",
        "                                  input_length=MAX_SEQUENCE_LENGTH,\n",
        "                                  trainable=False))\n",
        "      \n",
        "      model.add(Conv1D(64,3,activation='relu'))\n",
        "      model.add(MaxPool1D(2))\n",
        "      model.add(Dropout(dropout))\n",
        "      \n",
        "\n",
        "      model.add(Conv1D(32,3,activation='relu'))\n",
        "      model.add(Dropout(dropout))\n",
        "      \n",
        "       \n",
        "      model.add(Conv1D(16,3,activation='relu'))\n",
        "      model.add(tf.keras.layers.GlobalMaxPooling1D())\n",
        "      \n",
        "      model.add(Dense(1,activation='sigmoid'))\n",
        "      model.compile(loss='binary_crossentropy',optimizer='adam',metrics=['accuracy'])\n",
        "       \n",
        "      return model"
      ],
      "execution_count": 159,
      "outputs": []
    },
    {
      "cell_type": "code",
      "metadata": {
        "colab": {
          "base_uri": "https://localhost:8080/",
          "height": 162
        },
        "id": "ffnRHaG5Jn9K",
        "outputId": "251ad2be-f298-40b2-a959-5716a65107d9"
      },
      "source": [
        "train_final = processed_df[['tweets', 'sentiment']]\n",
        "print(\"Train DataFrame\")\n",
        "display(train_final.head(3))"
      ],
      "execution_count": 160,
      "outputs": [
        {
          "output_type": "stream",
          "name": "stdout",
          "text": [
            "Train DataFrame\n"
          ]
        },
        {
          "output_type": "display_data",
          "data": {
            "text/html": [
              "<div>\n",
              "<style scoped>\n",
              "    .dataframe tbody tr th:only-of-type {\n",
              "        vertical-align: middle;\n",
              "    }\n",
              "\n",
              "    .dataframe tbody tr th {\n",
              "        vertical-align: top;\n",
              "    }\n",
              "\n",
              "    .dataframe thead th {\n",
              "        text-align: right;\n",
              "    }\n",
              "</style>\n",
              "<table border=\"1\" class=\"dataframe\">\n",
              "  <thead>\n",
              "    <tr style=\"text-align: right;\">\n",
              "      <th></th>\n",
              "      <th>tweets</th>\n",
              "      <th>sentiment</th>\n",
              "    </tr>\n",
              "  </thead>\n",
              "  <tbody>\n",
              "    <tr>\n",
              "      <th>0</th>\n",
              "      <td>real good mom missssssssss much</td>\n",
              "      <td>0</td>\n",
              "    </tr>\n",
              "    <tr>\n",
              "      <th>1</th>\n",
              "      <td>read mang http plurkcompmzp1e</td>\n",
              "      <td>0</td>\n",
              "    </tr>\n",
              "    <tr>\n",
              "      <th>2</th>\n",
              "      <td>comeagaind http twitpiccom2y2lx http wwwyoutub...</td>\n",
              "      <td>0</td>\n",
              "    </tr>\n",
              "  </tbody>\n",
              "</table>\n",
              "</div>"
            ],
            "text/plain": [
              "                                              tweets  sentiment\n",
              "0                    real good mom missssssssss much          0\n",
              "1                      read mang http plurkcompmzp1e          0\n",
              "2  comeagaind http twitpiccom2y2lx http wwwyoutub...          0"
            ]
          },
          "metadata": {}
        }
      ]
    },
    {
      "cell_type": "code",
      "metadata": {
        "id": "e2AEKNRPJ4RU"
      },
      "source": [
        "preprocess = True\n",
        "text = 'tweets'\n",
        "target = 'sentiment'\n",
        "MAX_SEQUENCE_LENGTH = 60"
      ],
      "execution_count": 161,
      "outputs": []
    },
    {
      "cell_type": "code",
      "metadata": {
        "id": "yT3Fz7LBKI0X"
      },
      "source": [
        "X = df[text]\n",
        "y = df[target]"
      ],
      "execution_count": 162,
      "outputs": []
    },
    {
      "cell_type": "code",
      "metadata": {
        "id": "WEQAQ8obKQD3"
      },
      "source": [
        "X_train, X_test, y_train, y_test = train_test_split(X, y, test_size = 0.3)"
      ],
      "execution_count": 163,
      "outputs": []
    },
    {
      "cell_type": "code",
      "metadata": {
        "colab": {
          "base_uri": "https://localhost:8080/"
        },
        "id": "O1AyBPrCKkMZ",
        "outputId": "ba80f9c5-5483-4c8c-e401-e5634167d29c"
      },
      "source": [
        "print(\"Generating Glove Embeddings...\")\n",
        "X_train_Glove,X_test_Glove, word_index,embeddings_index, tokenizer = loadData_Tokenizer(X_train,X_test, MAX_SEQUENCE_LENGTH=MAX_SEQUENCE_LENGTH)"
      ],
      "execution_count": 165,
      "outputs": [
        {
          "output_type": "stream",
          "name": "stdout",
          "text": [
            "Generating Glove Embeddings...\n",
            "Found 17933 unique tokens.\n",
            "(10314, 60)\n",
            "Total 399955 word vectors.\n"
          ]
        }
      ]
    },
    {
      "cell_type": "code",
      "metadata": {
        "colab": {
          "base_uri": "https://localhost:8080/"
        },
        "id": "Q5-K2h0qKoRD",
        "outputId": "2fb79966-4637-4326-9fe4-dba1954ab075"
      },
      "source": [
        "\n",
        "# Model Training\n",
        "with warnings.catch_warnings():\n",
        "    print(\"Building Model ...\")\n",
        "    model_CNN = Build_Model_CNN_Text(word_index,embeddings_index)\n",
        "    model_CNN.summary()\n",
        "    print(\"\\n Starting Training ... \\n\")\n",
        "    history = model_CNN.fit(X_train_Glove, y_train,\n",
        "                              validation_data=(X_test_Glove, y_test),\n",
        "                              epochs=10,\n",
        "                              batch_size=256,\n",
        "                              verbose=2)\n",
        "    warnings.simplefilter(\"ignore\")"
      ],
      "execution_count": 166,
      "outputs": [
        {
          "output_type": "stream",
          "name": "stdout",
          "text": [
            "Building Model ...\n",
            "Model: \"sequential_13\"\n",
            "_________________________________________________________________\n",
            "Layer (type)                 Output Shape              Param #   \n",
            "=================================================================\n",
            "embedding_13 (Embedding)     (None, 500, 50)           896700    \n",
            "_________________________________________________________________\n",
            "conv1d_37 (Conv1D)           (None, 498, 64)           9664      \n",
            "_________________________________________________________________\n",
            "max_pooling1d_13 (MaxPooling (None, 249, 64)           0         \n",
            "_________________________________________________________________\n",
            "dropout_26 (Dropout)         (None, 249, 64)           0         \n",
            "_________________________________________________________________\n",
            "conv1d_38 (Conv1D)           (None, 247, 32)           6176      \n",
            "_________________________________________________________________\n",
            "dropout_27 (Dropout)         (None, 247, 32)           0         \n",
            "_________________________________________________________________\n",
            "conv1d_39 (Conv1D)           (None, 245, 16)           1552      \n",
            "_________________________________________________________________\n",
            "global_max_pooling1d_12 (Glo (None, 16)                0         \n",
            "_________________________________________________________________\n",
            "dense_14 (Dense)             (None, 1)                 17        \n",
            "=================================================================\n",
            "Total params: 914,109\n",
            "Trainable params: 17,409\n",
            "Non-trainable params: 896,700\n",
            "_________________________________________________________________\n",
            "\n",
            " Starting Training ... \n",
            "\n",
            "Epoch 1/10\n",
            "WARNING:tensorflow:Model was constructed with shape (None, 500) for input KerasTensor(type_spec=TensorSpec(shape=(None, 500), dtype=tf.float32, name='embedding_13_input'), name='embedding_13_input', description=\"created by layer 'embedding_13_input'\"), but it was called on an input with incompatible shape (None, 60).\n"
          ]
        },
        {
          "output_type": "stream",
          "name": "stderr",
          "text": [
            "WARNING:tensorflow:Model was constructed with shape (None, 500) for input KerasTensor(type_spec=TensorSpec(shape=(None, 500), dtype=tf.float32, name='embedding_13_input'), name='embedding_13_input', description=\"created by layer 'embedding_13_input'\"), but it was called on an input with incompatible shape (None, 60).\n"
          ]
        },
        {
          "output_type": "stream",
          "name": "stdout",
          "text": [
            "WARNING:tensorflow:Model was constructed with shape (None, 500) for input KerasTensor(type_spec=TensorSpec(shape=(None, 500), dtype=tf.float32, name='embedding_13_input'), name='embedding_13_input', description=\"created by layer 'embedding_13_input'\"), but it was called on an input with incompatible shape (None, 60).\n"
          ]
        },
        {
          "output_type": "stream",
          "name": "stderr",
          "text": [
            "WARNING:tensorflow:Model was constructed with shape (None, 500) for input KerasTensor(type_spec=TensorSpec(shape=(None, 500), dtype=tf.float32, name='embedding_13_input'), name='embedding_13_input', description=\"created by layer 'embedding_13_input'\"), but it was called on an input with incompatible shape (None, 60).\n"
          ]
        },
        {
          "output_type": "stream",
          "name": "stdout",
          "text": [
            "WARNING:tensorflow:Model was constructed with shape (None, 500) for input KerasTensor(type_spec=TensorSpec(shape=(None, 500), dtype=tf.float32, name='embedding_13_input'), name='embedding_13_input', description=\"created by layer 'embedding_13_input'\"), but it was called on an input with incompatible shape (None, 60).\n"
          ]
        },
        {
          "output_type": "stream",
          "name": "stderr",
          "text": [
            "WARNING:tensorflow:Model was constructed with shape (None, 500) for input KerasTensor(type_spec=TensorSpec(shape=(None, 500), dtype=tf.float32, name='embedding_13_input'), name='embedding_13_input', description=\"created by layer 'embedding_13_input'\"), but it was called on an input with incompatible shape (None, 60).\n"
          ]
        },
        {
          "output_type": "stream",
          "name": "stdout",
          "text": [
            "29/29 - 1s - loss: 0.4950 - accuracy: 0.7937 - val_loss: 0.5492 - val_accuracy: 0.7658\n",
            "Epoch 2/10\n",
            "29/29 - 0s - loss: 0.4078 - accuracy: 0.8436 - val_loss: 0.4660 - val_accuracy: 0.8142\n",
            "Epoch 3/10\n",
            "29/29 - 0s - loss: 0.2893 - accuracy: 0.8962 - val_loss: 0.3528 - val_accuracy: 0.9173\n",
            "Epoch 4/10\n",
            "29/29 - 0s - loss: 0.1789 - accuracy: 0.9388 - val_loss: 0.2478 - val_accuracy: 0.9551\n",
            "Epoch 5/10\n",
            "29/29 - 0s - loss: 0.1221 - accuracy: 0.9597 - val_loss: 0.2057 - val_accuracy: 0.9667\n",
            "Epoch 6/10\n",
            "29/29 - 0s - loss: 0.0920 - accuracy: 0.9719 - val_loss: 0.1716 - val_accuracy: 0.9735\n",
            "Epoch 7/10\n",
            "29/29 - 0s - loss: 0.0776 - accuracy: 0.9769 - val_loss: 0.1453 - val_accuracy: 0.9758\n",
            "Epoch 8/10\n",
            "29/29 - 0s - loss: 0.0723 - accuracy: 0.9798 - val_loss: 0.1624 - val_accuracy: 0.9719\n",
            "Epoch 9/10\n",
            "29/29 - 0s - loss: 0.0679 - accuracy: 0.9813 - val_loss: 0.1578 - val_accuracy: 0.9712\n",
            "Epoch 10/10\n",
            "29/29 - 0s - loss: 0.0615 - accuracy: 0.9832 - val_loss: 0.1734 - val_accuracy: 0.9693\n"
          ]
        }
      ]
    },
    {
      "cell_type": "code",
      "metadata": {
        "id": "DC8YJQTFRUd0"
      },
      "source": [
        "def plot_graphs(history, string):\n",
        "  plt.plot(history.history[string])\n",
        "  plt.plot(history.history['val_'+string], '')\n",
        "  plt.xlabel(\"Epochs\")\n",
        "  plt.ylabel(string)\n",
        "  plt.legend([string, 'val_'+string])\n",
        "  plt.show()"
      ],
      "execution_count": 167,
      "outputs": []
    },
    {
      "cell_type": "code",
      "metadata": {
        "colab": {
          "base_uri": "https://localhost:8080/",
          "height": 597
        },
        "id": "0vIj9HqcSwHZ",
        "outputId": "1ecc501f-3fd1-4952-bd58-9e9987176400"
      },
      "source": [
        "print(\"\\n Plotting results ... \\n\")\n",
        "plot_graphs(history, 'accuracy')\n",
        "plot_graphs(history, 'loss')"
      ],
      "execution_count": 168,
      "outputs": [
        {
          "output_type": "stream",
          "name": "stdout",
          "text": [
            "\n",
            " Plotting results ... \n",
            "\n"
          ]
        },
        {
          "output_type": "display_data",
          "data": {
            "image/png": "[encoded data removed]",
            "text/plain": [
              "<Figure size 432x288 with 1 Axes>"
            ]
          },
          "metadata": {
            "needs_background": "light"
          }
        },
        {
          "output_type": "display_data",
          "data": {
            "image/png": "[encoded data removed]",
            "text/plain": [
              "<Figure size 432x288 with 1 Axes>"
            ]
          },
          "metadata": {
            "needs_background": "light"
          }
        }
      ]
    },
    {
      "cell_type": "code",
      "metadata": {
        "colab": {
          "base_uri": "https://localhost:8080/"
        },
        "id": "U_75F1EVBYd5",
        "outputId": "768b0866-079b-47ab-f0c2-2d5e3cc06489"
      },
      "source": [
        "predict_x=model_CNN.predict(X_test_Glove); \n",
        "classes_x=np.argmax(predict_x,axis=1)"
      ],
      "execution_count": 169,
      "outputs": [
        {
          "output_type": "stream",
          "name": "stdout",
          "text": [
            "WARNING:tensorflow:Model was constructed with shape (None, 500) for input KerasTensor(type_spec=TensorSpec(shape=(None, 500), dtype=tf.float32, name='embedding_13_input'), name='embedding_13_input', description=\"created by layer 'embedding_13_input'\"), but it was called on an input with incompatible shape (None, 60).\n"
          ]
        },
        {
          "output_type": "stream",
          "name": "stderr",
          "text": [
            "WARNING:tensorflow:Model was constructed with shape (None, 500) for input KerasTensor(type_spec=TensorSpec(shape=(None, 500), dtype=tf.float32, name='embedding_13_input'), name='embedding_13_input', description=\"created by layer 'embedding_13_input'\"), but it was called on an input with incompatible shape (None, 60).\n"
          ]
        }
      ]
    },
    {
      "cell_type": "code",
      "metadata": {
        "colab": {
          "base_uri": "https://localhost:8080/"
        },
        "id": "Ki2jyJJOTEiN",
        "outputId": "8c69760c-2a09-416a-f856-a9ee3851905a"
      },
      "source": [
        "print(metrics.classification_report(y_test, classes_x));"
      ],
      "execution_count": 170,
      "outputs": [
        {
          "output_type": "stream",
          "name": "stdout",
          "text": [
            "              precision    recall  f1-score   support\n",
            "\n",
            "           0       0.77      1.00      0.87      2376\n",
            "           1       0.00      0.00      0.00       719\n",
            "\n",
            "    accuracy                           0.77      3095\n",
            "   macro avg       0.38      0.50      0.43      3095\n",
            "weighted avg       0.59      0.77      0.67      3095\n",
            "\n"
          ]
        },
        {
          "output_type": "stream",
          "name": "stderr",
          "text": [
            "/usr/local/lib/python3.7/dist-packages/sklearn/metrics/_classification.py:1272: UndefinedMetricWarning: Precision and F-score are ill-defined and being set to 0.0 in labels with no predicted samples. Use `zero_division` parameter to control this behavior.\n",
            "  _warn_prf(average, modifier, msg_start, len(result))\n"
          ]
        }
      ]
    },
    {
      "cell_type": "code",
      "metadata": {
        "colab": {
          "base_uri": "https://localhost:8080/"
        },
        "id": "QZbaiL_CTQXn",
        "outputId": "f13f55d6-ec79-467e-9b1f-3e8e7013cc80"
      },
      "source": [
        "print(\"Confusion Matrix for Decision Tree:\")\n",
        "print(confusion_matrix(y_test,classes_x))\n",
        "cnf_matrix = confusion_matrix(y_test,classes_x);\n",
        "labels = ['0','1'];\n",
        "cm1 = pd.DataFrame(cnf_matrix, index = labels, columns = labels)"
      ],
      "execution_count": 171,
      "outputs": [
        {
          "output_type": "stream",
          "name": "stdout",
          "text": [
            "Confusion Matrix for Decision Tree:\n",
            "[[2376    0]\n",
            " [ 719    0]]\n"
          ]
        }
      ]
    },
    {
      "cell_type": "code",
      "metadata": {
        "colab": {
          "base_uri": "https://localhost:8080/",
          "height": 497
        },
        "id": "kd6A1QO2TiiA",
        "outputId": "7e859ca6-8387-4053-b701-64b1ba8355f1"
      },
      "source": [
        "plt.figure(figsize = (10, 8))\n",
        "sns.heatmap(cm1, annot = True, cbar = False, fmt = 'g')\n",
        "plt.ylabel('Actual values')\n",
        "plt.xlabel('Predicted values')\n",
        "plt.show()"
      ],
      "execution_count": 172,
      "outputs": [
        {
          "output_type": "display_data",
          "data": {
            "image/png": "[encoded data removed]",
            "text/plain": [
              "<Figure size 720x576 with 1 Axes>"
            ]
          },
          "metadata": {
            "needs_background": "light"
          }
        }
      ]
    },
    {
      "cell_type": "code",
      "metadata": {
        "id": "JoI7SmSuZLsN"
      },
      "source": [
        ""
      ],
      "execution_count": 172,
      "outputs": []
    }
  ]
}